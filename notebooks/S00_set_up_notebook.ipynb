{
 "cells": [
  {
   "cell_type": "markdown",
   "id": "77ab2550-e5f8-46bb-b9d0-847106f23da6",
   "metadata": {},
   "source": [
    "# Set-up notebook\n",
    "\n",
    "This notebook runs a single cell that clones the GMS5204 repository into Google Colab's working directory."
   ]
  },
  {
   "cell_type": "code",
   "execution_count": null,
   "id": "4c93b896-be93-45a5-98cc-a547b129666d",
   "metadata": {},
   "outputs": [],
   "source": [
    "# run this cell\n",
    "!git clone https://github.com/mikedataCrunch/GMS5204.git\n",
    "!mv ./GMS5204/* .\n",
    "!rm ./GMS5204"
   ]
  },
  {
   "cell_type": "markdown",
   "id": "9df8b0b0-a801-4a4b-8b38-41259f05ab0a",
   "metadata": {},
   "source": [
    "## End."
   ]
  }
 ],
 "metadata": {
  "kernelspec": {
   "display_name": "Python 3 (ipykernel)",
   "language": "python",
   "name": "python3"
  },
  "language_info": {
   "codemirror_mode": {
    "name": "ipython",
    "version": 3
   },
   "file_extension": ".py",
   "mimetype": "text/x-python",
   "name": "python",
   "nbconvert_exporter": "python",
   "pygments_lexer": "ipython3",
   "version": "3.12.4"
  }
 },
 "nbformat": 4,
 "nbformat_minor": 5
}
